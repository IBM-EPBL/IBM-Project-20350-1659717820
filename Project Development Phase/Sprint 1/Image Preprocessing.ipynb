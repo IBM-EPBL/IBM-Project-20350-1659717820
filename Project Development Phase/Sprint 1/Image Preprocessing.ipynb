{
  "nbformat": 4,
  "nbformat_minor": 0,
  "metadata": {
    "colab": {
      "provenance": []
    },
    "kernelspec": {
      "name": "python3",
      "display_name": "Python 3"
    },
    "language_info": {
      "name": "python"
    }
  },
  "cells": [
    {
      "cell_type": "markdown",
      "source": [
        "**Project Title : Fertilizers Recommendation System For Disease Prediction**"
      ],
      "metadata": {
        "id": "1IUwLc35W1cx"
      }
    },
    {
      "cell_type": "markdown",
      "source": [
        "Team Id : PNT2022TMID12393"
      ],
      "metadata": {
        "id": "nPTeknVhXp6v"
      }
    },
    {
      "cell_type": "markdown",
      "source": [
        "Team Members : Pandi Raja P(Team Leader), Santhosh G, Venkatesh Prabhu R"
      ],
      "metadata": {
        "id": "eePR4TUPXt65"
      }
    },
    {
      "cell_type": "markdown",
      "source": [
        "Mounting Drive to access the dataset"
      ],
      "metadata": {
        "id": "V_1cPN1FVuu4"
      }
    },
    {
      "cell_type": "code",
      "source": [
        "import zipfile\n",
        "from google.colab import drive\n",
        "\n",
        "drive.mount('/content/drive/')"
      ],
      "metadata": {
        "colab": {
          "base_uri": "https://localhost:8080/"
        },
        "id": "g6wdOCcVUJik",
        "outputId": "498d2240-9dad-4a9a-b356-e98078e2a7ec"
      },
      "execution_count": 8,
      "outputs": [
        {
          "output_type": "stream",
          "name": "stdout",
          "text": [
            "Drive already mounted at /content/drive/; to attempt to forcibly remount, call drive.mount(\"/content/drive/\", force_remount=True).\n"
          ]
        }
      ]
    },
    {
      "cell_type": "markdown",
      "source": [
        "Extracting the Zip File"
      ],
      "metadata": {
        "id": "fkI7LocfV2-1"
      }
    },
    {
      "cell_type": "code",
      "source": [
        "zip_ref = zipfile.ZipFile(\"/content/drive/MyDrive/PRIEE/Dataset.zip\", 'r')\n",
        "zip_ref.extractall(\"/Temp\")\n",
        "zip_ref.close()"
      ],
      "metadata": {
        "id": "QSWXvSpPUPqU"
      },
      "execution_count": 9,
      "outputs": []
    },
    {
      "cell_type": "markdown",
      "source": [
        "Importing Libraries for Image Preprocessing"
      ],
      "metadata": {
        "id": "gvCQ7sKiQ7wS"
      }
    },
    {
      "cell_type": "code",
      "execution_count": 10,
      "metadata": {
        "id": "Zgi73pnBQU0a"
      },
      "outputs": [],
      "source": [
        "from keras.preprocessing.image import ImageDataGenerator"
      ]
    },
    {
      "cell_type": "markdown",
      "source": [
        "Preprocessing the Images using ImageDataGenerator"
      ],
      "metadata": {
        "id": "OWiCTkeZV8H5"
      }
    },
    {
      "cell_type": "code",
      "source": [
        "train_datagen=ImageDataGenerator(rescale=1./255,shear_range=0.2,zoom_range=0.2,horizontal_flip=True)\n",
        "test_datagen=ImageDataGenerator(rescale=1)"
      ],
      "metadata": {
        "id": "mCBDH_EoQ3VF"
      },
      "execution_count": 11,
      "outputs": []
    },
    {
      "cell_type": "code",
      "source": [
        "X_train=train_datagen.flow_from_directory('/Temp/Dataset Plant Disease/fruit-dataset/fruit-dataset/train',\n",
        "                                          target_size=(128,128),batch_size=32,class_mode='categorical')\n",
        "X_test=test_datagen.flow_from_directory('/Temp/Dataset Plant Disease/fruit-dataset/fruit-dataset/test',\n",
        "                                          target_size=(128,128),batch_size=32,class_mode='categorical')"
      ],
      "metadata": {
        "colab": {
          "base_uri": "https://localhost:8080/"
        },
        "id": "lfNI5ogcQ6e0",
        "outputId": "95ec83bc-334d-4edb-f554-1cb6b78c0524"
      },
      "execution_count": 12,
      "outputs": [
        {
          "output_type": "stream",
          "name": "stdout",
          "text": [
            "Found 5384 images belonging to 6 classes.\n",
            "Found 1686 images belonging to 6 classes.\n"
          ]
        }
      ]
    }
  ]
}
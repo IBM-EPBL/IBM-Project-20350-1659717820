{
  "nbformat": 4,
  "nbformat_minor": 0,
  "metadata": {
    "colab": {
      "provenance": []
    },
    "kernelspec": {
      "name": "python3",
      "display_name": "Python 3"
    },
    "language_info": {
      "name": "python"
    }
  },
  "cells": [
    {
      "cell_type": "markdown",
      "source": [
        "**Project Title : Fertilizers Recommendation System For Disease Prediction**"
      ],
      "metadata": {
        "id": "1IUwLc35W1cx"
      }
    },
    {
      "cell_type": "markdown",
      "source": [
        "Team Id : PNT2022TMID12393"
      ],
      "metadata": {
        "id": "nPTeknVhXp6v"
      }
    },
    {
      "cell_type": "markdown",
      "source": [
        "Team Members : Pandi Raja P(Team Leader), Santhosh G, Venkatesh Prabhu R, Dhanasekara Pandian G, Ananthan C P"
      ],
      "metadata": {
        "id": "eePR4TUPXt65"
      }
    },
    {
      "cell_type": "markdown",
      "source": [
        "Mounting Drive to access the dataset"
      ],
      "metadata": {
        "id": "V_1cPN1FVuu4"
      }
    },
    {
      "cell_type": "code",
      "source": [
        "import zipfile\n",
        "from google.colab import drive\n",
        "\n",
        "drive.mount('/content/drive/')"
      ],
      "metadata": {
        "colab": {
          "base_uri": "https://localhost:8080/"
        },
        "id": "g6wdOCcVUJik",
        "outputId": "e00889ab-5abd-4d04-8eff-38630aa474de"
      },
      "execution_count": 1,
      "outputs": [
        {
          "output_type": "stream",
          "name": "stdout",
          "text": [
            "Drive already mounted at /content/drive/; to attempt to forcibly remount, call drive.mount(\"/content/drive/\", force_remount=True).\n"
          ]
        }
      ]
    },
    {
      "cell_type": "markdown",
      "source": [
        "Extracting the Zip File"
      ],
      "metadata": {
        "id": "fkI7LocfV2-1"
      }
    },
    {
      "cell_type": "code",
      "source": [
        "zip_ref = zipfile.ZipFile(\"/content/drive/MyDrive/PRIEE/Dataset.zip\", 'r')\n",
        "zip_ref.extractall(\"/Temp\")\n",
        "zip_ref.close()"
      ],
      "metadata": {
        "id": "QSWXvSpPUPqU"
      },
      "execution_count": 2,
      "outputs": []
    },
    {
      "cell_type": "markdown",
      "source": [
        "# Image Preprocessing"
      ],
      "metadata": {
        "id": "4fmJYSLLc24o"
      }
    },
    {
      "cell_type": "markdown",
      "source": [
        "Importing Libraries for Image Preprocessing"
      ],
      "metadata": {
        "id": "gvCQ7sKiQ7wS"
      }
    },
    {
      "cell_type": "code",
      "execution_count": 3,
      "metadata": {
        "id": "Zgi73pnBQU0a"
      },
      "outputs": [],
      "source": [
        "from keras.preprocessing.image import ImageDataGenerator"
      ]
    },
    {
      "cell_type": "markdown",
      "source": [
        "Preprocessing the Images using ImageDataGenerator"
      ],
      "metadata": {
        "id": "OWiCTkeZV8H5"
      }
    },
    {
      "cell_type": "code",
      "source": [
        "train_datagen=ImageDataGenerator(rescale=1./255,shear_range=0.2,zoom_range=0.2,horizontal_flip=True)\n",
        "test_datagen=ImageDataGenerator(rescale=1)"
      ],
      "metadata": {
        "id": "mCBDH_EoQ3VF"
      },
      "execution_count": 4,
      "outputs": []
    },
    {
      "cell_type": "code",
      "source": [
        "X_train=train_datagen.flow_from_directory('/Temp/Dataset Plant Disease/fruit-dataset/fruit-dataset/train',\n",
        "                                          target_size=(128,128),batch_size=32,class_mode='categorical')\n",
        "X_test=test_datagen.flow_from_directory('/Temp/Dataset Plant Disease/fruit-dataset/fruit-dataset/test',\n",
        "                                          target_size=(128,128),batch_size=32,class_mode='categorical')"
      ],
      "metadata": {
        "colab": {
          "base_uri": "https://localhost:8080/"
        },
        "id": "lfNI5ogcQ6e0",
        "outputId": "16708460-774d-4b94-bebc-5bf8a0194249"
      },
      "execution_count": 5,
      "outputs": [
        {
          "output_type": "stream",
          "name": "stdout",
          "text": [
            "Found 5384 images belonging to 6 classes.\n",
            "Found 1686 images belonging to 6 classes.\n"
          ]
        }
      ]
    },
    {
      "cell_type": "markdown",
      "source": [
        "# Model Building"
      ],
      "metadata": {
        "id": "y5-9prSedD6K"
      }
    },
    {
      "cell_type": "markdown",
      "source": [
        "### Importing Libraries for Model Building"
      ],
      "metadata": {
        "id": "uQJnEmYcZRIR"
      }
    },
    {
      "cell_type": "code",
      "source": [
        "from keras.models import Sequential\n",
        "from keras.layers import Dense\n",
        "from keras.layers import Convolution2D\n",
        "from keras.layers import MaxPooling2D\n",
        "from keras.layers import Flatten"
      ],
      "metadata": {
        "id": "0MSENYajZYpA"
      },
      "execution_count": 6,
      "outputs": []
    },
    {
      "cell_type": "markdown",
      "source": [
        "Initializing the Model"
      ],
      "metadata": {
        "id": "miqYw-PlZsnu"
      }
    },
    {
      "cell_type": "code",
      "source": [
        "model=Sequential()"
      ],
      "metadata": {
        "id": "aJCZAMyoZ0Qt"
      },
      "execution_count": 7,
      "outputs": []
    },
    {
      "cell_type": "markdown",
      "source": [
        "### Add CNN Layers"
      ],
      "metadata": {
        "id": "gc8g8X-LcsxV"
      }
    },
    {
      "cell_type": "markdown",
      "source": [
        "Add the Convolution Layer"
      ],
      "metadata": {
        "id": "UOcL8xFca8un"
      }
    },
    {
      "cell_type": "code",
      "source": [
        "model.add(Convolution2D(32,(3,3),input_shape=(128,128,3),activation='relu'))"
      ],
      "metadata": {
        "id": "b-N3stFaa7px"
      },
      "execution_count": 8,
      "outputs": []
    },
    {
      "cell_type": "markdown",
      "source": [
        "Add the Pooling Layer"
      ],
      "metadata": {
        "id": "iltmlrSLbQlv"
      }
    },
    {
      "cell_type": "code",
      "source": [
        "model.add(MaxPooling2D(pool_size=(2,2)))"
      ],
      "metadata": {
        "id": "7VvspA_XbYZV"
      },
      "execution_count": 9,
      "outputs": []
    },
    {
      "cell_type": "markdown",
      "source": [
        "Add the flatten layer\n"
      ],
      "metadata": {
        "id": "kR7a5reJbqos"
      }
    },
    {
      "cell_type": "code",
      "source": [
        "model.add(Flatten())"
      ],
      "metadata": {
        "id": "kXr-vPTwbs8_"
      },
      "execution_count": 10,
      "outputs": []
    },
    {
      "cell_type": "markdown",
      "source": [
        "###Add Dense Layers"
      ],
      "metadata": {
        "id": "iWtUbTA3dMIz"
      }
    },
    {
      "cell_type": "markdown",
      "source": [
        "Adding the Output Layer"
      ],
      "metadata": {
        "id": "fJYiG094dQOW"
      }
    },
    {
      "cell_type": "code",
      "source": [
        "model.add(Dense(units=40,kernel_initializer='uniform',bias_initializer='uniform',activation='relu'))\n",
        "model.add(Dense(units=20,kernel_initializer='random_uniform',bias_initializer='random_uniform',activation='relu'))\n",
        "model.add(Dense(units=6,kernel_initializer='random_uniform',bias_initializer='random_uniform',activation='softmax'))"
      ],
      "metadata": {
        "id": "a7DntzK8dUDR"
      },
      "execution_count": 11,
      "outputs": []
    },
    {
      "cell_type": "markdown",
      "source": [
        "Compile the model"
      ],
      "metadata": {
        "id": "4RfRu7MIjxdM"
      }
    },
    {
      "cell_type": "code",
      "source": [
        "model.compile(loss='categorical_crossentropy',optimizer=\"adam\",metrics=[\"accuracy\"])"
      ],
      "metadata": {
        "id": "5FGeiYtnkASx"
      },
      "execution_count": 12,
      "outputs": []
    },
    {
      "cell_type": "markdown",
      "source": [
        "Fit the model"
      ],
      "metadata": {
        "id": "DDZXC8mnkMKJ"
      }
    },
    {
      "cell_type": "code",
      "source": [
        "model.fit_generator(X_train,steps_per_epoch=169,epochs=5,validation_data=X_test,validation_steps=52)"
      ],
      "metadata": {
        "colab": {
          "base_uri": "https://localhost:8080/"
        },
        "id": "f6oB1I2wkRpd",
        "outputId": "d7756e7a-2c13-466a-9cc0-d78c610aa8ac"
      },
      "execution_count": 13,
      "outputs": [
        {
          "metadata": {
            "tags": null
          },
          "name": "stderr",
          "output_type": "stream",
          "text": [
            "/usr/local/lib/python3.7/dist-packages/ipykernel_launcher.py:1: UserWarning: `Model.fit_generator` is deprecated and will be removed in a future version. Please use `Model.fit`, which supports generators.\n",
            "  \"\"\"Entry point for launching an IPython kernel.\n"
          ]
        },
        {
          "output_type": "stream",
          "name": "stdout",
          "text": [
            "Epoch 1/5\n",
            "169/169 [==============================] - 89s 518ms/step - loss: 0.9705 - accuracy: 0.6445 - val_loss: 137.5121 - val_accuracy: 0.6106\n",
            "Epoch 2/5\n",
            "169/169 [==============================] - 89s 527ms/step - loss: 0.5011 - accuracy: 0.8148 - val_loss: 370.5068 - val_accuracy: 0.5481\n",
            "Epoch 3/5\n",
            "169/169 [==============================] - 87s 512ms/step - loss: 0.3575 - accuracy: 0.8730 - val_loss: 349.1004 - val_accuracy: 0.6442\n",
            "Epoch 4/5\n",
            "169/169 [==============================] - 93s 552ms/step - loss: 0.2977 - accuracy: 0.8969 - val_loss: 439.9806 - val_accuracy: 0.6052\n",
            "Epoch 5/5\n",
            "169/169 [==============================] - 87s 511ms/step - loss: 0.2548 - accuracy: 0.9127 - val_loss: 659.6982 - val_accuracy: 0.5925\n"
          ]
        },
        {
          "output_type": "execute_result",
          "data": {
            "text/plain": [
              "<keras.callbacks.History at 0x7fad3f0995d0>"
            ]
          },
          "metadata": {},
          "execution_count": 13
        }
      ]
    },
    {
      "cell_type": "code",
      "source": [
        "model.summary()"
      ],
      "metadata": {
        "colab": {
          "base_uri": "https://localhost:8080/"
        },
        "id": "WIcijvEcPIMc",
        "outputId": "423f5f15-e7c1-4abb-be67-9ac58c2ac13b"
      },
      "execution_count": 14,
      "outputs": [
        {
          "output_type": "stream",
          "name": "stdout",
          "text": [
            "Model: \"sequential\"\n",
            "_________________________________________________________________\n",
            " Layer (type)                Output Shape              Param #   \n",
            "=================================================================\n",
            " conv2d (Conv2D)             (None, 126, 126, 32)      896       \n",
            "                                                                 \n",
            " max_pooling2d (MaxPooling2D  (None, 63, 63, 32)       0         \n",
            " )                                                               \n",
            "                                                                 \n",
            " flatten (Flatten)           (None, 127008)            0         \n",
            "                                                                 \n",
            " dense (Dense)               (None, 40)                5080360   \n",
            "                                                                 \n",
            " dense_1 (Dense)             (None, 20)                820       \n",
            "                                                                 \n",
            " dense_2 (Dense)             (None, 6)                 126       \n",
            "                                                                 \n",
            "=================================================================\n",
            "Total params: 5,082,202\n",
            "Trainable params: 5,082,202\n",
            "Non-trainable params: 0\n",
            "_________________________________________________________________\n"
          ]
        }
      ]
    },
    {
      "cell_type": "markdown",
      "source": [
        "Save the Model"
      ],
      "metadata": {
        "id": "m_0WTZ5TldEE"
      }
    },
    {
      "cell_type": "code",
      "source": [
        "model.save('fruit.h5')"
      ],
      "metadata": {
        "id": "9n03_bq_lcWh"
      },
      "execution_count": 15,
      "outputs": []
    }
  ]
}
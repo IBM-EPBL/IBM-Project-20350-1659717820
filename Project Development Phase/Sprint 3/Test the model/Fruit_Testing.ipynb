{
  "nbformat": 4,
  "nbformat_minor": 0,
  "metadata": {
    "colab": {
      "provenance": []
    },
    "kernelspec": {
      "name": "python3",
      "display_name": "Python 3"
    },
    "language_info": {
      "name": "python"
    },
    "accelerator": "GPU",
    "gpuClass": "standard"
  },
  "cells": [
    {
      "cell_type": "markdown",
      "source": [
        "**Project Title : Fertilizers Recommendation System For Disease Prediction**"
      ],
      "metadata": {
        "id": "1IUwLc35W1cx"
      }
    },
    {
      "cell_type": "markdown",
      "source": [
        "Team Id : PNT2022TMID12393"
      ],
      "metadata": {
        "id": "nPTeknVhXp6v"
      }
    },
    {
      "cell_type": "markdown",
      "source": [
        "Team Members : Pandi Raja P(Team Leader), Santhosh G, Venkatesh Prabhu R, Dhanasekara Pandian G, Ananthan C P"
      ],
      "metadata": {
        "id": "eePR4TUPXt65"
      }
    },
    {
      "cell_type": "markdown",
      "source": [
        "Mounting Drive to access the dataset"
      ],
      "metadata": {
        "id": "V_1cPN1FVuu4"
      }
    },
    {
      "cell_type": "code",
      "source": [
        "import zipfile\n",
        "from google.colab import drive\n",
        "\n",
        "drive.mount('/content/drive/')"
      ],
      "metadata": {
        "colab": {
          "base_uri": "https://localhost:8080/"
        },
        "id": "g6wdOCcVUJik",
        "outputId": "928b9d47-c9db-4aa7-d738-344a792bc83b"
      },
      "execution_count": null,
      "outputs": [
        {
          "output_type": "stream",
          "name": "stdout",
          "text": [
            "Drive already mounted at /content/drive/; to attempt to forcibly remount, call drive.mount(\"/content/drive/\", force_remount=True).\n"
          ]
        }
      ]
    },
    {
      "cell_type": "markdown",
      "source": [
        "Extracting the Zip File"
      ],
      "metadata": {
        "id": "fkI7LocfV2-1"
      }
    },
    {
      "cell_type": "code",
      "source": [
        "zip_ref = zipfile.ZipFile(\"/content/drive/MyDrive/PRIEE/Dataset.zip\", 'r')\n",
        "zip_ref.extractall(\"/Temp\")\n",
        "zip_ref.close()"
      ],
      "metadata": {
        "id": "QSWXvSpPUPqU"
      },
      "execution_count": null,
      "outputs": []
    },
    {
      "cell_type": "markdown",
      "source": [
        "# Image Preprocessing"
      ],
      "metadata": {
        "id": "4fmJYSLLc24o"
      }
    },
    {
      "cell_type": "markdown",
      "source": [
        "Importing Libraries for Image Preprocessing"
      ],
      "metadata": {
        "id": "gvCQ7sKiQ7wS"
      }
    },
    {
      "cell_type": "code",
      "execution_count": null,
      "metadata": {
        "id": "Zgi73pnBQU0a"
      },
      "outputs": [],
      "source": [
        "from keras.preprocessing.image import ImageDataGenerator"
      ]
    },
    {
      "cell_type": "markdown",
      "source": [
        "Preprocessing the Images using ImageDataGenerator"
      ],
      "metadata": {
        "id": "OWiCTkeZV8H5"
      }
    },
    {
      "cell_type": "code",
      "source": [
        "train_datagen=ImageDataGenerator(rescale=1./255,shear_range=0.2,zoom_range=0.2,horizontal_flip=True)\n",
        "test_datagen=ImageDataGenerator(rescale=1)"
      ],
      "metadata": {
        "id": "mCBDH_EoQ3VF"
      },
      "execution_count": null,
      "outputs": []
    },
    {
      "cell_type": "code",
      "source": [
        "X_train=train_datagen.flow_from_directory('/Temp/Dataset Plant Disease/fruit-dataset/fruit-dataset/train',\n",
        "                                          target_size=(128,128),batch_size=32,class_mode='categorical')\n",
        "X_test=test_datagen.flow_from_directory('/Temp/Dataset Plant Disease/fruit-dataset/fruit-dataset/test',\n",
        "                                          target_size=(128,128),batch_size=32,class_mode='categorical')"
      ],
      "metadata": {
        "colab": {
          "base_uri": "https://localhost:8080/"
        },
        "id": "lfNI5ogcQ6e0",
        "outputId": "32f9f3ad-0fc3-452e-cb10-7bc498bfe958"
      },
      "execution_count": null,
      "outputs": [
        {
          "output_type": "stream",
          "name": "stdout",
          "text": [
            "Found 5384 images belonging to 6 classes.\n",
            "Found 1686 images belonging to 6 classes.\n"
          ]
        }
      ]
    },
    {
      "cell_type": "markdown",
      "source": [
        "# Model Building"
      ],
      "metadata": {
        "id": "y5-9prSedD6K"
      }
    },
    {
      "cell_type": "markdown",
      "source": [
        "### Importing Libraries for Model Building"
      ],
      "metadata": {
        "id": "uQJnEmYcZRIR"
      }
    },
    {
      "cell_type": "code",
      "source": [
        "from tensorflow.keras.models import Sequential\n",
        "from tensorflow.keras.layers import Dense\n",
        "from tensorflow.keras.layers import Convolution2D\n",
        "from tensorflow.keras.layers import MaxPooling2D\n",
        "from tensorflow.keras.layers import Flatten"
      ],
      "metadata": {
        "id": "0MSENYajZYpA"
      },
      "execution_count": null,
      "outputs": []
    },
    {
      "cell_type": "markdown",
      "source": [
        "Initializing the Model"
      ],
      "metadata": {
        "id": "miqYw-PlZsnu"
      }
    },
    {
      "cell_type": "code",
      "source": [
        "model=Sequential()"
      ],
      "metadata": {
        "id": "aJCZAMyoZ0Qt"
      },
      "execution_count": null,
      "outputs": []
    },
    {
      "cell_type": "markdown",
      "source": [
        "### Add CNN Layers"
      ],
      "metadata": {
        "id": "gc8g8X-LcsxV"
      }
    },
    {
      "cell_type": "markdown",
      "source": [
        "Add the Convolution Layer"
      ],
      "metadata": {
        "id": "UOcL8xFca8un"
      }
    },
    {
      "cell_type": "code",
      "source": [
        "model.add(Convolution2D(32,(3,3),input_shape=(128,128,3),activation='relu'))"
      ],
      "metadata": {
        "id": "b-N3stFaa7px"
      },
      "execution_count": null,
      "outputs": []
    },
    {
      "cell_type": "markdown",
      "source": [
        "Add the Pooling Layer"
      ],
      "metadata": {
        "id": "iltmlrSLbQlv"
      }
    },
    {
      "cell_type": "code",
      "source": [
        "model.add(MaxPooling2D(pool_size=(2,2)))"
      ],
      "metadata": {
        "id": "7VvspA_XbYZV"
      },
      "execution_count": null,
      "outputs": []
    },
    {
      "cell_type": "markdown",
      "source": [
        "Add the flatten layer\n"
      ],
      "metadata": {
        "id": "kR7a5reJbqos"
      }
    },
    {
      "cell_type": "code",
      "source": [
        "model.add(Flatten())"
      ],
      "metadata": {
        "id": "kXr-vPTwbs8_"
      },
      "execution_count": null,
      "outputs": []
    },
    {
      "cell_type": "markdown",
      "source": [
        "###Add Dense Layers"
      ],
      "metadata": {
        "id": "iWtUbTA3dMIz"
      }
    },
    {
      "cell_type": "markdown",
      "source": [
        "Adding the Output Layer"
      ],
      "metadata": {
        "id": "fJYiG094dQOW"
      }
    },
    {
      "cell_type": "code",
      "source": [
        "model.add(Dense(units=40,kernel_initializer='uniform',bias_initializer='uniform',activation='relu'))\n",
        "model.add(Dense(units=20,kernel_initializer='random_uniform',bias_initializer='random_uniform',activation='relu'))\n",
        "model.add(Dense(units=6,kernel_initializer='random_uniform',bias_initializer='random_uniform',activation='softmax'))"
      ],
      "metadata": {
        "id": "a7DntzK8dUDR"
      },
      "execution_count": null,
      "outputs": []
    },
    {
      "cell_type": "markdown",
      "source": [
        "Compile the model"
      ],
      "metadata": {
        "id": "4RfRu7MIjxdM"
      }
    },
    {
      "cell_type": "code",
      "source": [
        "model.compile(loss='categorical_crossentropy',optimizer=\"adam\",metrics=[\"accuracy\"])"
      ],
      "metadata": {
        "id": "5FGeiYtnkASx"
      },
      "execution_count": null,
      "outputs": []
    },
    {
      "cell_type": "markdown",
      "source": [
        "Fit the model"
      ],
      "metadata": {
        "id": "DDZXC8mnkMKJ"
      }
    },
    {
      "cell_type": "code",
      "source": [
        "model.fit_generator(X_train,steps_per_epoch=169,epochs=5,validation_data=X_test,validation_steps=52)"
      ],
      "metadata": {
        "colab": {
          "base_uri": "https://localhost:8080/"
        },
        "id": "f6oB1I2wkRpd",
        "outputId": "6d41a1de-e8ff-4aab-e560-7cfcdeb03445"
      },
      "execution_count": null,
      "outputs": [
        {
          "output_type": "stream",
          "name": "stdout",
          "text": [
            "Epoch 1/5\n"
          ]
        },
        {
          "output_type": "stream",
          "name": "stderr",
          "text": [
            "/usr/local/lib/python3.7/dist-packages/ipykernel_launcher.py:1: UserWarning: `Model.fit_generator` is deprecated and will be removed in a future version. Please use `Model.fit`, which supports generators.\n",
            "  \"\"\"Entry point for launching an IPython kernel.\n"
          ]
        },
        {
          "output_type": "stream",
          "name": "stdout",
          "text": [
            "169/169 [==============================] - 30s 162ms/step - loss: 0.9680 - accuracy: 0.6439 - val_loss: 68.5267 - val_accuracy: 0.7752\n",
            "Epoch 2/5\n",
            "169/169 [==============================] - 27s 157ms/step - loss: 0.4760 - accuracy: 0.8280 - val_loss: 57.2858 - val_accuracy: 0.8558\n",
            "Epoch 3/5\n",
            "169/169 [==============================] - 27s 162ms/step - loss: 0.3594 - accuracy: 0.8705 - val_loss: 106.8976 - val_accuracy: 0.7861\n",
            "Epoch 4/5\n",
            "169/169 [==============================] - 26s 155ms/step - loss: 0.2885 - accuracy: 0.8978 - val_loss: 97.6488 - val_accuracy: 0.8095\n",
            "Epoch 5/5\n",
            "169/169 [==============================] - 27s 161ms/step - loss: 0.2688 - accuracy: 0.9053 - val_loss: 397.4765 - val_accuracy: 0.6671\n"
          ]
        },
        {
          "output_type": "execute_result",
          "data": {
            "text/plain": [
              "<keras.callbacks.History at 0x7fe5f03c5b10>"
            ]
          },
          "metadata": {},
          "execution_count": 13
        }
      ]
    },
    {
      "cell_type": "code",
      "source": [
        "model.summary()"
      ],
      "metadata": {
        "colab": {
          "base_uri": "https://localhost:8080/"
        },
        "id": "WIcijvEcPIMc",
        "outputId": "fb49cc25-2702-4d8e-9a1b-f68251ef183c"
      },
      "execution_count": null,
      "outputs": [
        {
          "output_type": "stream",
          "name": "stdout",
          "text": [
            "Model: \"sequential\"\n",
            "_________________________________________________________________\n",
            " Layer (type)                Output Shape              Param #   \n",
            "=================================================================\n",
            " conv2d (Conv2D)             (None, 126, 126, 32)      896       \n",
            "                                                                 \n",
            " max_pooling2d (MaxPooling2D  (None, 63, 63, 32)       0         \n",
            " )                                                               \n",
            "                                                                 \n",
            " flatten (Flatten)           (None, 127008)            0         \n",
            "                                                                 \n",
            " dense (Dense)               (None, 40)                5080360   \n",
            "                                                                 \n",
            " dense_1 (Dense)             (None, 20)                820       \n",
            "                                                                 \n",
            " dense_2 (Dense)             (None, 6)                 126       \n",
            "                                                                 \n",
            "=================================================================\n",
            "Total params: 5,082,202\n",
            "Trainable params: 5,082,202\n",
            "Non-trainable params: 0\n",
            "_________________________________________________________________\n"
          ]
        }
      ]
    },
    {
      "cell_type": "markdown",
      "source": [
        "Save the Model"
      ],
      "metadata": {
        "id": "m_0WTZ5TldEE"
      }
    },
    {
      "cell_type": "code",
      "source": [
        "model.save('fruit.h5')"
      ],
      "metadata": {
        "id": "9n03_bq_lcWh"
      },
      "execution_count": null,
      "outputs": []
    },
    {
      "cell_type": "code",
      "source": [
        "from tensorflow.keras.preprocessing import image\n",
        "from tensorflow.keras.preprocessing.image import img_to_array\n",
        "from tensorflow.keras.models import load_model\n",
        "import numpy as np"
      ],
      "metadata": {
        "id": "88MkkQ7luMpr"
      },
      "execution_count": null,
      "outputs": []
    },
    {
      "cell_type": "code",
      "source": [
        "model1=load_model(\"fruit.h5\")"
      ],
      "metadata": {
        "id": "ZtL9ICZlulaE"
      },
      "execution_count": null,
      "outputs": []
    },
    {
      "cell_type": "code",
      "source": [
        "img=image.load_img('/Temp/Dataset Plant Disease/fruit-dataset/fruit-dataset/test/Corn_(maize)___healthy/01c3bf88-d315-42a3-8fa1-fc80a05c97f1___R.S_HL 8189 copy.jpg',target_size=(128,128))\n",
        "x=image.img_to_array(img)\n",
        "x=np.expand_dims(x,axis=0)"
      ],
      "metadata": {
        "id": "GyuhUxX8uqia"
      },
      "execution_count": null,
      "outputs": []
    },
    {
      "cell_type": "code",
      "source": [
        "pred=model1.predict(x[:1])\n",
        "pred\n",
        "\n",
        "print(np.argmax(pred,axis=1))"
      ],
      "metadata": {
        "colab": {
          "base_uri": "https://localhost:8080/"
        },
        "id": "O7vnfcbKvOOD",
        "outputId": "69835d1c-f13a-4eca-ed91-41fe62a3f161"
      },
      "execution_count": null,
      "outputs": [
        {
          "output_type": "stream",
          "name": "stdout",
          "text": [
            "1/1 [==============================] - 0s 15ms/step\n",
            "[3]\n"
          ]
        }
      ]
    }
  ]
}
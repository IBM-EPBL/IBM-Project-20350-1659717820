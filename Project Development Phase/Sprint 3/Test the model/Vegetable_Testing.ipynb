{
  "nbformat": 4,
  "nbformat_minor": 0,
  "metadata": {
    "colab": {
      "provenance": [],
      "collapsed_sections": []
    },
    "kernelspec": {
      "name": "python3",
      "display_name": "Python 3"
    },
    "language_info": {
      "name": "python"
    },
    "accelerator": "GPU",
    "gpuClass": "standard"
  },
  "cells": [
    {
      "cell_type": "markdown",
      "source": [
        "**Project Title : Fertilizers Recommendation System For Disease Prediction**"
      ],
      "metadata": {
        "id": "1IUwLc35W1cx"
      }
    },
    {
      "cell_type": "markdown",
      "source": [
        "Team Id : PNT2022TMID12393"
      ],
      "metadata": {
        "id": "nPTeknVhXp6v"
      }
    },
    {
      "cell_type": "markdown",
      "source": [
        "Team Members : Pandi Raja P(Team Leader), Santhosh G, Venkatesh Prabhu R, Dhanasekara Pandian G, Ananthan C P"
      ],
      "metadata": {
        "id": "eePR4TUPXt65"
      }
    },
    {
      "cell_type": "markdown",
      "source": [
        "**Mount the Drive**"
      ],
      "metadata": {
        "id": "-Sm-gtaSF05Y"
      }
    },
    {
      "cell_type": "code",
      "source": [
        "import zipfile\n",
        "from google.colab import drive\n",
        "\n",
        "drive.mount('/content/drive/')"
      ],
      "metadata": {
        "colab": {
          "base_uri": "https://localhost:8080/"
        },
        "id": "UUWPBa4HTsvV",
        "outputId": "878e6e76-00cf-4ae1-c119-53b8665e836b"
      },
      "execution_count": 1,
      "outputs": [
        {
          "output_type": "stream",
          "name": "stdout",
          "text": [
            "Drive already mounted at /content/drive/; to attempt to forcibly remount, call drive.mount(\"/content/drive/\", force_remount=True).\n"
          ]
        }
      ]
    },
    {
      "cell_type": "code",
      "source": [
        "zip_ref = zipfile.ZipFile(\"/content/drive/MyDrive/PRIEE/Dataset.zip\", 'r')\n",
        "zip_ref.extractall(\"/Temp\")\n",
        "zip_ref.close()"
      ],
      "metadata": {
        "id": "yMu3Frg0T3a-"
      },
      "execution_count": 2,
      "outputs": []
    },
    {
      "cell_type": "markdown",
      "source": [
        "Import the Libraries"
      ],
      "metadata": {
        "id": "8EgAOV6mSOlP"
      }
    },
    {
      "cell_type": "code",
      "execution_count": 3,
      "metadata": {
        "id": "uAkcKPHqQgVt"
      },
      "outputs": [],
      "source": [
        "from keras.preprocessing.image import ImageDataGenerator"
      ]
    },
    {
      "cell_type": "code",
      "source": [
        "train_datagen=ImageDataGenerator(rescale=1./255,shear_range=0.2,zoom_range=0.2,horizontal_flip=True)\n",
        "test_datagen=ImageDataGenerator(rescale=1)"
      ],
      "metadata": {
        "id": "I3_91aYkScgf"
      },
      "execution_count": 4,
      "outputs": []
    },
    {
      "cell_type": "code",
      "source": [
        "x_train=train_datagen.flow_from_directory('/Temp/Dataset Plant Disease/Veg-dataset/Veg-dataset/train_set',\n",
        "                                          target_size=(128,128),batch_size=16,class_mode='categorical')"
      ],
      "metadata": {
        "colab": {
          "base_uri": "https://localhost:8080/"
        },
        "id": "N1_lIFE8T-WA",
        "outputId": "6b2290cb-8482-408e-c16d-1234e69c2d37"
      },
      "execution_count": 5,
      "outputs": [
        {
          "output_type": "stream",
          "name": "stdout",
          "text": [
            "Found 11386 images belonging to 9 classes.\n"
          ]
        }
      ]
    },
    {
      "cell_type": "code",
      "source": [
        "x_test=test_datagen.flow_from_directory('/Temp/Dataset Plant Disease/Veg-dataset/Veg-dataset/test_set',\n",
        "                                        target_size=(128,128),\n",
        "                                        batch_size=16,\n",
        "                                        class_mode='categorical')"
      ],
      "metadata": {
        "colab": {
          "base_uri": "https://localhost:8080/"
        },
        "id": "NryRWwm8UhO5",
        "outputId": "ae3b7681-c84e-4a7f-b9fb-7a2b87ebc96b"
      },
      "execution_count": 6,
      "outputs": [
        {
          "output_type": "stream",
          "name": "stdout",
          "text": [
            "Found 3416 images belonging to 9 classes.\n"
          ]
        }
      ]
    },
    {
      "cell_type": "code",
      "source": [
        "from keras.models import Sequential\n",
        "from keras.layers import Dense\n",
        "from keras.layers import Convolution2D\n",
        "from keras.layers import MaxPooling2D\n",
        "from keras.layers import Flatten"
      ],
      "metadata": {
        "id": "K-4mjK3iVQjX"
      },
      "execution_count": 7,
      "outputs": []
    },
    {
      "cell_type": "code",
      "source": [
        "model=Sequential()"
      ],
      "metadata": {
        "id": "w1HCF54jVvjA"
      },
      "execution_count": 8,
      "outputs": []
    },
    {
      "cell_type": "markdown",
      "source": [
        "**Adding Convolution Layer**"
      ],
      "metadata": {
        "id": "SMS871WxV9H5"
      }
    },
    {
      "cell_type": "code",
      "source": [
        "model.add(Convolution2D(32,(3,3),input_shape=(128,128,3),activation='relu'))"
      ],
      "metadata": {
        "id": "hvK5Y9y2V707"
      },
      "execution_count": 9,
      "outputs": []
    },
    {
      "cell_type": "markdown",
      "source": [
        "**Adding the Pooling Layer**"
      ],
      "metadata": {
        "id": "VVc72gVxWWpE"
      }
    },
    {
      "cell_type": "code",
      "source": [
        "model.add(MaxPooling2D(pool_size=(2,2)))"
      ],
      "metadata": {
        "id": "44iSvEKfWVkH"
      },
      "execution_count": 10,
      "outputs": []
    },
    {
      "cell_type": "markdown",
      "source": [
        "Adding the Flatten Layer"
      ],
      "metadata": {
        "id": "nJwY3enMWgsI"
      }
    },
    {
      "cell_type": "code",
      "source": [
        "model.add(Flatten())"
      ],
      "metadata": {
        "id": "jENorY-cWfGN"
      },
      "execution_count": 11,
      "outputs": []
    },
    {
      "cell_type": "markdown",
      "source": [
        "**Adding the Dense Layer**"
      ],
      "metadata": {
        "id": "YK0_TsFgWp6O"
      }
    },
    {
      "cell_type": "code",
      "source": [
        "model.add(Dense(units=300,kernel_initializer='uniform',bias_initializer='uniform',activation='relu'))\n",
        "model.add(Dense(units=150,kernel_initializer='uniform',bias_initializer='uniform',activation='relu'))\n",
        "model.add(Dense(units=75,kernel_initializer='uniform',bias_initializer='uniform',activation='relu'))\n",
        "model.add(Dense(units=9,activation='softmax',kernel_initializer='uniform',bias_initializer='uniform'))"
      ],
      "metadata": {
        "id": "gBJhw0rSWoSA"
      },
      "execution_count": 12,
      "outputs": []
    },
    {
      "cell_type": "code",
      "source": [
        "model.compile(loss='categorical_crossentropy',optimizer=\"adam\",metrics=[\"accuracy\"])"
      ],
      "metadata": {
        "id": "GYYjQtHwjik0"
      },
      "execution_count": 13,
      "outputs": []
    },
    {
      "cell_type": "code",
      "source": [
        "model.fit_generator(x_train,steps_per_epoch=89,\n",
        "                    epochs=20,\n",
        "                    validation_data=x_test,\n",
        "                    validation_steps=27)"
      ],
      "metadata": {
        "colab": {
          "base_uri": "https://localhost:8080/"
        },
        "id": "gc0W1pu-jMT0",
        "outputId": "6b9add6c-5f08-4b31-ec96-b5483c867a30"
      },
      "execution_count": 14,
      "outputs": [
        {
          "output_type": "stream",
          "name": "stdout",
          "text": [
            "Epoch 1/20\n"
          ]
        },
        {
          "output_type": "stream",
          "name": "stderr",
          "text": [
            "/usr/local/lib/python3.7/dist-packages/ipykernel_launcher.py:4: UserWarning: `Model.fit_generator` is deprecated and will be removed in a future version. Please use `Model.fit`, which supports generators.\n",
            "  after removing the cwd from sys.path.\n"
          ]
        },
        {
          "output_type": "stream",
          "name": "stdout",
          "text": [
            "89/89 [==============================] - 11s 92ms/step - loss: 2.1165 - accuracy: 0.2015 - val_loss: 95.3621 - val_accuracy: 0.2801\n",
            "Epoch 2/20\n",
            "89/89 [==============================] - 8s 94ms/step - loss: 1.8604 - accuracy: 0.2865 - val_loss: 96.3079 - val_accuracy: 0.3264\n",
            "Epoch 3/20\n",
            "89/89 [==============================] - 9s 104ms/step - loss: 1.5378 - accuracy: 0.4277 - val_loss: 164.4992 - val_accuracy: 0.3958\n",
            "Epoch 4/20\n",
            "89/89 [==============================] - 8s 92ms/step - loss: 1.3220 - accuracy: 0.5212 - val_loss: 420.1981 - val_accuracy: 0.2801\n",
            "Epoch 5/20\n",
            "89/89 [==============================] - 8s 92ms/step - loss: 1.1406 - accuracy: 0.5836 - val_loss: 685.5609 - val_accuracy: 0.2546\n",
            "Epoch 6/20\n",
            "89/89 [==============================] - 8s 91ms/step - loss: 1.0540 - accuracy: 0.6236 - val_loss: 580.8304 - val_accuracy: 0.3542\n",
            "Epoch 7/20\n",
            "89/89 [==============================] - 9s 97ms/step - loss: 0.9376 - accuracy: 0.6552 - val_loss: 691.0874 - val_accuracy: 0.2708\n",
            "Epoch 8/20\n",
            "89/89 [==============================] - 9s 98ms/step - loss: 0.8730 - accuracy: 0.6798 - val_loss: 669.7203 - val_accuracy: 0.3241\n",
            "Epoch 9/20\n",
            "89/89 [==============================] - 9s 101ms/step - loss: 0.8194 - accuracy: 0.6945 - val_loss: 844.1055 - val_accuracy: 0.2500\n",
            "Epoch 10/20\n",
            "89/89 [==============================] - 8s 91ms/step - loss: 0.7852 - accuracy: 0.7100 - val_loss: 838.0773 - val_accuracy: 0.3264\n",
            "Epoch 11/20\n",
            "89/89 [==============================] - 9s 97ms/step - loss: 0.7556 - accuracy: 0.7331 - val_loss: 943.5340 - val_accuracy: 0.3218\n",
            "Epoch 12/20\n",
            "89/89 [==============================] - 8s 94ms/step - loss: 0.7433 - accuracy: 0.7275 - val_loss: 869.9811 - val_accuracy: 0.3056\n",
            "Epoch 13/20\n",
            "89/89 [==============================] - 8s 93ms/step - loss: 0.6475 - accuracy: 0.7753 - val_loss: 720.3214 - val_accuracy: 0.3565\n",
            "Epoch 14/20\n",
            "89/89 [==============================] - 9s 105ms/step - loss: 0.6699 - accuracy: 0.7581 - val_loss: 1204.1404 - val_accuracy: 0.2569\n",
            "Epoch 15/20\n",
            "89/89 [==============================] - 8s 93ms/step - loss: 0.5860 - accuracy: 0.8006 - val_loss: 750.3307 - val_accuracy: 0.3588\n",
            "Epoch 16/20\n",
            "89/89 [==============================] - 8s 91ms/step - loss: 0.5600 - accuracy: 0.7914 - val_loss: 864.5402 - val_accuracy: 0.3148\n",
            "Epoch 17/20\n",
            "89/89 [==============================] - 8s 90ms/step - loss: 0.5334 - accuracy: 0.8188 - val_loss: 749.6041 - val_accuracy: 0.3403\n",
            "Epoch 18/20\n",
            "89/89 [==============================] - 8s 93ms/step - loss: 0.5557 - accuracy: 0.8083 - val_loss: 920.5909 - val_accuracy: 0.2963\n",
            "Epoch 19/20\n",
            "89/89 [==============================] - 9s 105ms/step - loss: 0.5477 - accuracy: 0.8062 - val_loss: 907.1216 - val_accuracy: 0.3889\n",
            "Epoch 20/20\n",
            "89/89 [==============================] - 9s 95ms/step - loss: 0.5216 - accuracy: 0.8216 - val_loss: 1040.4718 - val_accuracy: 0.2755\n"
          ]
        },
        {
          "output_type": "execute_result",
          "data": {
            "text/plain": [
              "<keras.callbacks.History at 0x7f34601ca210>"
            ]
          },
          "metadata": {},
          "execution_count": 14
        }
      ]
    },
    {
      "cell_type": "markdown",
      "source": [
        "**Save the Model**"
      ],
      "metadata": {
        "id": "pww3nfnLeVTh"
      }
    },
    {
      "cell_type": "code",
      "source": [
        "model.save('vegetable.h5')"
      ],
      "metadata": {
        "id": "i6te9EpweXzi"
      },
      "execution_count": 15,
      "outputs": []
    },
    {
      "cell_type": "markdown",
      "source": [
        "Import the Packages"
      ],
      "metadata": {
        "id": "5ujQ1bRA7HlP"
      }
    },
    {
      "cell_type": "code",
      "source": [
        "from tensorflow.keras.preprocessing import image\n",
        "from tensorflow.keras.preprocessing.image import img_to_array\n",
        "from tensorflow.keras.models import load_model\n",
        "import numpy as np"
      ],
      "metadata": {
        "id": "77x-iRPC7KwZ"
      },
      "execution_count": 16,
      "outputs": []
    },
    {
      "cell_type": "markdown",
      "source": [
        "Load the Model"
      ],
      "metadata": {
        "id": "0Biia9L77Jtr"
      }
    },
    {
      "cell_type": "code",
      "source": [
        "model1=load_model(\"vegetable.h5\")"
      ],
      "metadata": {
        "id": "EF2GbjKt7UNA"
      },
      "execution_count": 18,
      "outputs": []
    },
    {
      "cell_type": "code",
      "source": [
        "img=image.load_img('/Temp/Dataset Plant Disease/Veg-dataset/Veg-dataset/train_set/Tomato___Late_blight/0003faa8-4b27-4c65-bf42-6d9e352ca1a5___RS_Late.B 4946.JPG',target_size=(128,128))\n",
        "x=image.img_to_array(img)\n",
        "x=np.expand_dims(x,axis=0)"
      ],
      "metadata": {
        "id": "RDVlzreR7VNN"
      },
      "execution_count": 19,
      "outputs": []
    },
    {
      "cell_type": "markdown",
      "source": [
        "Prediction"
      ],
      "metadata": {
        "id": "YokdZ-kV7byZ"
      }
    },
    {
      "cell_type": "code",
      "source": [
        "pred=model1.predict(x[:1])\n",
        "pred\n",
        "\n",
        "print(np.argmax(pred,axis=1))"
      ],
      "metadata": {
        "id": "i__5H_Fh7XoJ",
        "outputId": "2a69cda4-05b9-442a-e3e7-60413caadbaf",
        "colab": {
          "base_uri": "https://localhost:8080/"
        }
      },
      "execution_count": 20,
      "outputs": [
        {
          "output_type": "stream",
          "name": "stdout",
          "text": [
            "1/1 [==============================] - 0s 105ms/step\n",
            "[8]\n"
          ]
        }
      ]
    }
  ]
}